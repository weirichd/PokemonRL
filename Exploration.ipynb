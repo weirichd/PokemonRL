{
 "cells": [
  {
   "cell_type": "markdown",
   "id": "ee21a0c9-67b6-4b92-beae-a6e7a7ff72f2",
   "metadata": {},
   "source": [
    "Load the game and run until the title screen"
   ]
  },
  {
   "cell_type": "code",
   "execution_count": 12,
   "id": "1ab85949-7daf-4a1f-aad7-72a3e3e671a2",
   "metadata": {},
   "outputs": [],
   "source": [
    "from pyboy import PyBoy\n",
    "\n",
    "boy = PyBoy(\"PokemonRed.gb\", window=\"null\")"
   ]
  },
  {
   "cell_type": "code",
   "execution_count": 36,
   "id": "7569097f-f021-4655-b857-08da25b18ded",
   "metadata": {},
   "outputs": [
    {
     "data": {
      "image/png": "[encoded data removed]",
      "text/plain": [
       "<PIL.Image.Image image mode=RGBA size=160x144>"
      ]
     },
     "execution_count": 36,
     "metadata": {},
     "output_type": "execute_result"
    }
   ],
   "source": [
    "boy.tick(1500)\n",
    "\n",
    "boy.screen.image"
   ]
  }
 ],
 "metadata": {
  "kernelspec": {
   "display_name": "Python 3 (ipykernel)",
   "language": "python",
   "name": "python3"
  },
  "language_info": {
   "codemirror_mode": {
    "name": "ipython",
    "version": 3
   },
   "file_extension": ".py",
   "mimetype": "text/x-python",
   "name": "python",
   "nbconvert_exporter": "python",
   "pygments_lexer": "ipython3",
   "version": "3.11.0rc1"
  }
 },
 "nbformat": 4,
 "nbformat_minor": 5
}
